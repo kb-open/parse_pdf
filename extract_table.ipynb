{
 "cells": [
  {
   "cell_type": "markdown",
   "metadata": {},
   "source": [
    "# File"
   ]
  },
  {
   "cell_type": "code",
   "execution_count": 1,
   "metadata": {
    "ExecuteTime": {
     "end_time": "2021-09-21T09:02:00.669344Z",
     "start_time": "2021-09-21T09:02:00.661735Z"
    },
    "collapsed": true
   },
   "outputs": [],
   "source": [
    "file = \"data/seminar8.pdf\""
   ]
  },
  {
   "cell_type": "markdown",
   "metadata": {},
   "source": []
  },
  {
   "cell_type": "markdown",
   "metadata": {},
   "source": [
    "# Get Text"
   ]
  },
  {
   "cell_type": "markdown",
   "metadata": {},
   "source": [
    "## Pdfminer"
   ]
  },
  {
   "cell_type": "code",
   "execution_count": 16,
   "metadata": {
    "ExecuteTime": {
     "end_time": "2021-09-21T09:05:59.644265Z",
     "start_time": "2021-09-21T09:05:59.612632Z"
    },
    "collapsed": true
   },
   "outputs": [],
   "source": [
    "from io import StringIO\n",
    "\n",
    "from pdfminer.pdfinterp import PDFResourceManager, PDFPageInterpreter\n",
    "from pdfminer.layout import LAParams, LTTextBoxHorizontal\n",
    "from pdfminer.converter import TextConverter, PDFPageAggregator\n",
    "from pdfminer.pdfparser import PDFParser\n",
    "from pdfminer.pdfdocument import PDFDocument\n",
    "from pdfminer.pdfpage import PDFPage"
   ]
  },
  {
   "cell_type": "markdown",
   "metadata": {},
   "source": [
    "### Parse doc"
   ]
  },
  {
   "cell_type": "code",
   "execution_count": 21,
   "metadata": {
    "ExecuteTime": {
     "end_time": "2021-09-21T09:17:24.775419Z",
     "start_time": "2021-09-21T09:17:24.741018Z"
    },
    "collapsed": true
   },
   "outputs": [],
   "source": [
    "def parse_doc(doc, mode='return_as_string', showpageno=False):\n",
    "    numPages = 0\n",
    "    rsrcmgr = PDFResourceManager()\n",
    "    laparams = LAParams()\n",
    "\n",
    "    if mode=='return_as_list':\n",
    "        lines = []\n",
    "        device = PDFPageAggregator(rsrcmgr, laparams=laparams)\n",
    "    else:\n",
    "        string = StringIO()\n",
    "        device = TextConverter(rsrcmgr, string, laparams=laparams, showpageno=showpageno)\n",
    "    interpreter = PDFPageInterpreter(rsrcmgr, device)\n",
    " \n",
    "    for page in PDFPage.create_pages(doc):\n",
    "        numPages += 1\n",
    "        interpreter.process_page(page)\n",
    "\n",
    "        if mode=='return_as_list':\n",
    "            layout = device.get_result()\n",
    "            for element in layout:\n",
    "                if isinstance(element, LTTextBoxHorizontal):\n",
    "                    lines.extend(element.get_text().splitlines())\n",
    "     \n",
    "    if mode=='return_as_list':\n",
    "        result = lines\n",
    "    else:\n",
    "        result = string.getvalue()\n",
    "        string.close()\n",
    "        \n",
    "    device.close()\n",
    "    \n",
    "    return result, numPages"
   ]
  },
  {
   "cell_type": "code",
   "execution_count": 22,
   "metadata": {
    "ExecuteTime": {
     "end_time": "2021-09-21T09:17:26.104398Z",
     "start_time": "2021-09-21T09:17:25.386547Z"
    }
   },
   "outputs": [
    {
     "name": "stdout",
     "output_type": "stream",
     "text": [
      "Number of pages = 21\n",
      "Page 1\n",
      " \n",
      " \n",
      " \n",
      " \n",
      " \n",
      " \n",
      " \n",
      " \n",
      " \n",
      "\n",
      "Classification of Iris data set \n",
      "\n",
      " \n",
      " \n",
      " \n",
      " \n",
      " \n",
      " \n",
      " \n",
      " \n",
      "\n",
      "Mentor: \n",
      "Assist. prof. Primož Potočnik \n",
      "Student: \n",
      "Vitaly Borovinskiy \n",
      " \n",
      "\n",
      " \n",
      " \n",
      " \n",
      " \n",
      " \n",
      " \n",
      " \n",
      " \n",
      " \n",
      "\n",
      "Ljubljana, 2009 \n",
      "\n",
      "\f",
      "Page 2\n",
      "1. Problem statement \n",
      " \n",
      "Fisher’s  Iris  data  base  (Fisher,  1936)  is  perhaps  the  best  known \n",
      "database to be found in the pattern recognition literature. The data \n",
      "set contains 3 classes of 50 instances each, where each class refers \n",
      "to a type of iris plant. One class is linearly separable from the other \n",
      "two; the latter are not linearly separable from each other. \n",
      "The data base contains the following attributes: \n",
      "1). sepal length in cm \n",
      "2). sepal width in cm \n",
      "3). petal length in cm \n",
      "4). petal width in cm \n",
      "5). class: \n",
      "\n",
      "- Iris Setosa \n",
      "- Iris Versicolour \n",
      "- Iris Virginica \n",
      "\n",
      "Fisher’s  Iris  data  base  is  available  in  Matlab  (load  fisheriris)  and  in \n",
      "Internet (for example, on http://archive.ics.uci.edu/ml/datasets/Iris). \n",
      "The goal of the seminar is to demonstrate the process of building a \n",
      "neural network based classifier that solves the classification problem. \n",
      "During the seminar various neural network based approaches will be \n",
      "shown, the process of building various neural network architectures \n",
      "will  be  demonstrated,  and  finally  classification  results  will  be \n",
      "presented. \n",
      "\n",
      "\f",
      "Page 3\n",
      " \n",
      "2. Theoretical part \n",
      " \n",
      "In  this  seminar  classification  problem  is  solved  by  3  types  of  neural \n",
      "networks: \n",
      "\n",
      "1) multilayer perceptron; \n",
      "2) radial basis function network; \n",
      "3) probabilistic neural network. \n",
      "\n",
      "These  network  types  are  shortly  described  in  this  seminar.  Each  of \n",
      "these  networks  has  adjustable  parameters \n",
      "its \n",
      "performance. \n",
      " \n",
      "2.1Multilayer perceptron \n",
      "Multilayer perceptron is a multilayer feedforward network. \n",
      "\n",
      "that  affect \n",
      "\n",
      " \n",
      "Feedforward  networks  often  have  one  or  more  hidden  layers  of \n",
      "sigmoid  neurons  followed  by  an  output  layer  of  linear  neurons. \n",
      "Multiple layers of neurons with nonlinear transfer functions allow the \n",
      "network  to  learn  nonlinear  and  linear  relationships  between  input \n",
      "and output vectors. The linear output layer lets the network produce \n",
      "values outside the range -1 to +1. \n",
      "\n",
      "\f",
      "Page 4\n",
      "In this seminar the transfer functions of hidden layers are hyperbolic \n",
      "tangent  sigmoid  functions.  Network  architecture  is  determined  by \n",
      "the number of hidden layers and by the number of neurons in each \n",
      "hidden layer. \n",
      "The network is trained by the backpropagation learning rule. \n",
      " \n",
      "2.2 Radial basis function network \n",
      "Radial basis function network is a feedforward network. \n",
      "\n",
      " \n",
      "Radial basis function networks consist of two layers: a hidden radial \n",
      "basis layer of  S1 neurons, and an output linear layer of S2  neurons. \n",
      "Each  radial  basis  layer  neuron’s  weighted  input  is  the  distance \n",
      "between  the  input  vector  and  its  weight  vector.  Each  radial  basis \n",
      "layer  neuron’s  net  input  is  the  element-by-element  product  of  its \n",
      "weighted  input  with  its  bias.  Each  neuron’s  output  is  its  net  input \n",
      "passed through radial basis transfer function. \n",
      "Radial basis function network is created iteratively one neuron at a \n",
      "time. Neurons are added to the network until the sum-squared error \n",
      "falls  beneath  an  error  goal  or  a  maximum  number  of  neurons  has \n",
      "been reached. \n",
      "\n",
      "\f",
      "Page 5\n",
      "Design parameter of radial basis function network is spread of radial \n",
      "basis transfer function. \n",
      " \n",
      "2.3 Probabilistic neural network \n",
      "Probabilistic neural network is a feedforward network. It is specialized \n",
      "to classification. \n",
      "\n",
      " \n",
      "When an input is presented, the first layer computes distances from \n",
      "the input vector to the training input vectors and produces a vector \n",
      "whose  elements  indicate  how  close  the  input  is  to  a  training  input. \n",
      "The second layer sums these contributions for each class of inputs to \n",
      "produce  as  its  net  output  a  vector  of  probabilities.  Finally,  a \n",
      "competitive  output  layer  picks  the  maximum  of  these  probabilities, \n",
      "and produces a 1 for that class and a 0 for the other classes. \n",
      "Design parameter of probabilistic neural network is spread of radial \n",
      "basis transfer function. \n",
      "Little or no training is required for probabilistic neural network (except \n",
      "spread optimization). \n",
      "\n",
      "\f",
      "Page 6\n",
      "3. Practical part \n",
      " \n",
      "3.1 Cross-validation \n",
      "In  this  seminar  a  cross-validation  procedure  is  applied  to  provide \n",
      "better  generalization  of  neural  network  classifiers.  To  perform  the \n",
      "cross-validation procedure input data is partitioned into 3 sets: \n",
      "\n",
      "1) training set; \n",
      "2) validation set; \n",
      "3) test set. \n",
      "\n",
      "The training set is used to train the network. The validation set is used \n",
      "to  validate  the  network,  to  adjust  network  design  parameters.  The \n",
      "test  set  is  used  to  test  the  generalization  performance  of  the \n",
      "selected design of neural network. \n",
      "To ensure a correct comparison of different types of neural networks \n",
      "the  division  of  input  data  into  training,  validation  and  test  sets  is \n",
      "performed  by  independent  part  of  code  (see  Appendix)  and  the \n",
      "division result is stored. \n",
      "The partitioning of input data is performed randomly with a certain \n",
      "ratio of input entities to be stored as training set, validation set and \n",
      "test set (0.7, 0.15 and 0.15 respectively). \n",
      " \n",
      "3.2 Multilayer perceptron \n",
      "As  soon  as  the  architecture  and  the  performance  of  multilayer \n",
      "perceptron are determined by the number of hidden layers and by \n",
      "the number of neurons in each hidden layer these are the network \n",
      "design  parameters  that  are  adjusted.  The  correct  classification \n",
      "function  is  introduced  as  the  ratio  of  number  of  correctly  classified \n",
      "inputs to the whole number of inputs. \n",
      "\n",
      "\f",
      "Page 7\n",
      "Multilayer  perceptrons  with  1  and  2  hidden  layers  are  investigated. \n",
      "The procedure of adjusting the number of neurons in hidden layers is \n",
      "organized as a grid search (see Appendix). With each combination \n",
      "of numbers of neurons in the hidden layers the multilayer perceptron \n",
      "is trained on the train set, the value of correct classification function \n",
      "for the train set is stored. The validation set is used for standard early \n",
      "stopping  procedure,  the  value  of  correct  classification  function  for \n",
      "the validation set is stored as well. \n",
      "The  values  of  the  correct  classification  function  are  plotted  versus \n",
      "the corresponding number of neurons in the hidden layer. \n",
      "\n",
      "Fig. 1. Correct classification function for multilayer perceptron with 1 hidden layer. Blue line – \n",
      "\n",
      "training set; green line – validation set \n",
      "\n",
      " \n",
      "\n",
      "\f",
      "Page 8\n",
      "Fig. 2. Correct classification function for multilayer perceptron with 2 hidden layers (2 ortogonal \n",
      "\n",
      " \n",
      " \n",
      "\n",
      " \n",
      "\n",
      "projections of surface). Training set \n",
      "\n",
      "Fig. 3. Correct classification function for multilayer perceptron with 2 hidden layers (2 ortogonal \n",
      "\n",
      " \n",
      "\n",
      " \n",
      "\n",
      "projections of surface). Validation set \n",
      "\n",
      "The  number  of  neurons  that  ensures  the  best  generalization  is \n",
      "chosen.  The  training  and  simulation  of  the  chosen  model  of \n",
      "multilayer perceptron is performed on joined training and validation \n",
      "sets, the value of correct classification function is calculated. \n",
      "Finally,  the  generalization  performance  of  the  network  is  simulated \n",
      "on  the  test  set.  The  corresponding  value  of  correct  classification \n",
      "function is calculated. \n",
      "For the training of the multilayer perceptron BFGS algorithm is used, \n",
      "as  it  is  known  that  for  small  networks  quasi-Newton  algorithms  are \n",
      "preferable. \n",
      " \n",
      "3.3 Radial basis function network \n",
      "\n",
      "\f",
      "Page 9\n",
      "To  obtain  the  optimal  performance  of  the  radial  basis  function \n",
      "network  spread  parameter  is  adjusted.  The  procedure  of  adjusting \n",
      "the  spread  is  organized  as  a  search  (see  Appendix).  The  search  is \n",
      "performed  in  2  iterations  with  different  range  of  varying  parameter \n",
      "and different search step. \n",
      "For  each  value  of  spread  the  radial  basis  function  network  is \n",
      "simulated  for  the  train  and  validation  sets,  the  values  of  correct \n",
      "classification function for the train set and for the validation set are \n",
      "stored. \n",
      "The  values  of  the  correct  classification  function  are  plotted  versus \n",
      "the spread. \n",
      "\n",
      "  \n",
      "\n",
      "\f",
      "Page 10\n",
      " \n",
      "\n",
      "Fig. 4. Correct classification function for radial basis function network. Blue line – training set; \n",
      "\n",
      "green line – validation set \n",
      "\n",
      "The value of spread parameter that ensures the best generalization \n",
      "is chosen. The radial basis function network is built and simulated on \n",
      "joined training and validation sets, the value of correct classification \n",
      "function is calculated. \n",
      "Finally,  the  generalization  performance  of  the  network  is  tested  on \n",
      "the  test  set.  The  corresponding  value  of  correct  classification \n",
      "function is calculated. \n",
      " \n",
      "3.4 Probabilistic neural network \n",
      "To  obtain  the  optimal  performance  of  the  probabilistic  neural \n",
      "network  spread  parameter  is  adjusted.  The  procedure  of  adjusting \n",
      "the  spread  is  organized  as  a  search  (see  Appendix).  The  search  is \n",
      "performed  in  2  iterations  with  different  range  of  varying  parameter \n",
      "and different search step. \n",
      "For  each  value  of  spread  the  probabilistic  neural  network  is \n",
      "simulated  for  the  train  and  validation  sets,  the  values  of  correct \n",
      "\n",
      "\f",
      "Page 11\n",
      "classification function for the train set and for the validation set are \n",
      "stored. \n",
      "The  values  of  the  correct  classification  function  are  plotted  versus \n",
      "the spread. \n",
      "\n",
      " \n",
      "\n",
      " \n",
      "\n",
      "Fig. 5. Correct classification function for radial basis function network. Blue line – training set; \n",
      "\n",
      "green line – validation set \n",
      "\n",
      "The value of spread parameter that ensures the best generalization \n",
      "is chosen. The probabilistic neural network is built and simulated on \n",
      "joined training and validation sets, the value of correct classification \n",
      "function is calculated. \n",
      "\n",
      "\f",
      "Page 12\n",
      "Finally,  the  generalization  performance  of  the  network  is  tested  on \n",
      "the  test  set.  The  corresponding  value  of  correct  classification \n",
      "function is calculated. \n",
      " \n",
      "3.5 Results comparison \n",
      "In  the  following  table  the  values  of  correct  classification  function \n",
      "obtained  by  supplying  different  sets  of  input  data  into  the  chosen \n",
      "models  of  neural  networks  and  processing  their  outputs  are \n",
      "presented. \n",
      "\n",
      "Neural networks \n",
      "\n",
      "Radial basis \n",
      "\n",
      "function \n",
      "network \n",
      "\n",
      "99.225% \n",
      "\n",
      "100% \n",
      "\n",
      "Table 1 \n",
      "\n",
      "Probabilistic \n",
      "\n",
      "neural network \n",
      "\n",
      "98.450% \n",
      "\n",
      "95.238% \n",
      "\n",
      "Sets of inputs \n",
      "\n",
      "Multilayer \n",
      "perceptron \n",
      "\n",
      "training + \n",
      "validation \n",
      "\n",
      "test \n",
      "\n",
      " \n",
      "\n",
      "99.483% \n",
      "\n",
      "96.825% \n",
      "\n",
      "\f",
      "Page 13\n",
      " \n",
      "4.  Possible  ways  to  improve  the  performance  of  discussed  neural \n",
      "networks \n",
      " \n",
      "From working on my seminar and from discussions with my mentor I \n",
      "see  the  following  ways  to  improve  the  performance  of  neural \n",
      "networks investigated: \n",
      "\n",
      "1. Input data pre-processing \n",
      "1) Partitioning of the input data for the cross-validation procedure \n",
      "has  effect  on  the  neural  network  performance.  Indeed,  even \n",
      "when the same values of division ratios are kept (0.7/0.15/0.15) \n",
      "and  the  whole  data  set  is  partitioned  randomly  again,  the \n",
      "values of the correct classification function change: \n",
      "\n",
      "Sets of inputs \n",
      "\n",
      "Multilayer \n",
      "perceptron \n",
      "\n",
      "Table 2 \n",
      "\n",
      "Neural networks \n",
      "\n",
      "Radial basis \n",
      "\n",
      "Probabilistic \n",
      "\n",
      "function \n",
      "network \n",
      "\n",
      "neural \n",
      "network \n",
      "\n",
      "training + \n",
      "validation \n",
      "\n",
      "100% \n",
      "\n",
      "99.483% \n",
      "\n",
      "100% \n",
      "\n",
      "test \n",
      "\n",
      "96.825% \n",
      "\n",
      "96.825% \n",
      "\n",
      "95.238% \n",
      "\n",
      "This  probably  happens  because  the  number  of  inputs  is  very \n",
      "small  and  the  performance  of  the  network  is  very  sensitive  to \n",
      "the way the original set is partitioned. The partitioning of original \n",
      "set  can  also  be  optimized.  The  possible  way  is  to  divide  the \n",
      "original  data  set  into  a  number  of  small  sets  and  to  search \n",
      "through them for the one that ensures the best generalization \n",
      "being used as validation set. \n",
      "\n",
      "\f",
      "Page 14\n",
      "2) The  principal  component  analysis  can  be  applied  to  the \n",
      "\n",
      "original data set to reduce its dimensionality. \n",
      "\n",
      "2. Multilayer perceptron adjustment \n",
      "\n",
      "While  adjusting  the  number  of  neurons  in  hidden  layers  of \n",
      "multilayer  perceptron  the  results  of  grid  search  appear  not \n",
      "unique. For example, for a single hidden layer the plots of the \n",
      "correct  classification  function  versus  number  of  neurons  are \n",
      "different each time the search is performed: \n",
      "\n",
      " \n",
      "\n",
      " \n",
      "\n",
      "This probably happens because on every search run the \n",
      "training is finished in a different local minima of network \n",
      "performance function. \n",
      "Applying a different network training function doesn’t solve the \n",
      "problem. Still, the BFGS algorithm is used for training instead of \n",
      "the \n",
      "standard \n",
      "training is performed slightly faster. \n",
      "\n",
      "Levenberg-Marquardt  algorithm,  because \n",
      "\n",
      "\f",
      "Page 15\n",
      " \n",
      "5. Conclusions \n",
      "\n",
      " \n",
      "\n",
      "1. Classification performance of all 3 investigated types of neural \n",
      "\n",
      "networks is acceptable. \n",
      "\n",
      "2. Radial  basis  function  network  exhibits  better  generalization \n",
      "performance  then  multilayer  perceptron  and  probabilistic \n",
      "neural network. \n",
      "\n",
      "3. Small  number  of  inputs  effect  crucially  on  the  generalization \n",
      "\n",
      "performance of neural network classifier. \n",
      "\n",
      "\f",
      "Page 16\n",
      " \n",
      "Appendix \n",
      " \n",
      "1. Multilayer perceptron Matlab code \n",
      "close all; clear; clc \n",
      "%% load divided input data set \n",
      "load divinp.mat \n",
      "% coding (+1/-1) of 3 classes \n",
      "a = [-1 -1 +1]'; \n",
      "b = [-1 +1 -1]'; \n",
      "c = [+1 -1 -1]'; \n",
      "% define training inputs \n",
      "trainInp = [trainSeto trainVers trainVirg]; \n",
      "% define targets \n",
      "T = [repmat(a,1,length(trainSeto)) repmat(b,1,length(trainVers)) \n",
      "repmat(c,1,length(trainVirg))]; \n",
      "%% network training \n",
      "trainCor = zeros(10,10); \n",
      "valCor = zeros(10,10); \n",
      "Xn = zeros(1,10); \n",
      "Yn = zeros(1,10); \n",
      "for k = 1:10  ,\n",
      "Yn(1,k) = k; \n",
      "for n = 1:10, \n",
      "Xn(1,n) = n; \n",
      "net = newff(trainInp,T,[k n],{},'trainbfg'); \n",
      "net = init(net); \n",
      "net.divideParam.trainRatio = 1; \n",
      "net.divideParam.valRatio = 0; \n",
      "net.divideParam.testRatio = 0; \n",
      "%net.trainParam.show = NaN; \n",
      "net.trainParam.max_fail = 2; \n",
      "  \n",
      "valInp = [valSeto valVers valVirg]; \n",
      "VV.P = valInp; \n",
      "valT = [repmat(a,1,length(valSeto)) repmat(b,1,length(valVers)) \n",
      "repmat(c,1,length(valVirg))]; \n",
      "  \n",
      "net = train(net,trainInp,T,[],[],VV);%,TV); \n",
      "  \n",
      "Y = sim(net,trainInp); \n",
      "  \n",
      "[Yval,Pfval,Afval,Eval,perfval] = sim(net,valInp,[],[],valT); \n",
      "  \n",
      "% calculate [%] of correct classifications \n",
      "trainCor(k,n) = 100 * length(find(T.*Y > 0)) / length(T); \n",
      "valCor(k,n) = 100 * length(find(valT.*Yval > 0)) / length(valT); \n",
      "end \n",
      "end \n",
      "figure \n",
      "surf(Xn,Yn,trainCor/3); \n",
      "view(2) \n",
      "figure \n",
      "surf(Xn,Yn,valCor/3); \n",
      "view(2) \n",
      "%% final training \n",
      "k = 3; \n",
      "\n",
      "\f",
      "Page 17\n",
      "n = 3; \n",
      "  \n",
      "fintrain = [trainInp valInp]; \n",
      "finT = [T valT]; \n",
      "  \n",
      "net = newff(fintrain,finT,[k n],{},'trainbfg'); \n",
      "net.divideParam.trainRatio = 1; \n",
      "net.divideParam.valRatio = 0; \n",
      "net.divideParam.testRatio = 0; \n",
      "  \n",
      "net = train(net,fintrain,finT); \n",
      "  \n",
      "finY = sim(net,fintrain); \n",
      "  \n",
      "finCor = 100 * length(find(finT.*finY > 0)) / length(finT); \n",
      "fprintf('Num of neurons in 1st layer  = %d\\n',net.layers{1}.size) \n",
      "fprintf('Num of neurons in 2nd layer  = %d\\n',net.layers{2}.size) \n",
      "fprintf('Correct class   = %.3f %%\\n',finCor/3) \n",
      "%% Testing \n",
      "% define test set \n",
      "testInp = [testSeto testVers testVirg]; \n",
      "testT = [repmat(a,1,length(testSeto)) repmat(b,1,length(testVers)) \n",
      "repmat(c,1,length(testVirg))]; \n",
      "  \n",
      "testOut = sim(net,testInp); \n",
      "testCor = 100 * length(find(testT.*testOut > 0)) / length(testT); \n",
      "fprintf('Correct class   = %.3f %%\\n',testCor/3) \n",
      "  \n",
      "% plot targets and network response \n",
      "figure; \n",
      "plot(testT') \n",
      "xlim([1 21]) \n",
      "ylim([0 2]) \n",
      "set(gca,'ytick',[1 2 3]) \n",
      "hold on \n",
      "grid on \n",
      "plot(testOut','r') \n",
      "legend('Targets','Network response') \n",
      "xlabel('Sample No.') \n",
      " \n",
      "2. Radial basis function network Matlab code \n",
      "close all; clear; clc \n",
      "%% load divided input data set \n",
      "load divinp.mat \n",
      "% coding (+1/-1) of 3 classes \n",
      "a = [-1 -1 +1]'; \n",
      "b = [-1 +1 -1]'; \n",
      "c = [+1 -1 -1]'; \n",
      "% define training inputs \n",
      "trainInp = [trainSeto trainVers trainVirg]; \n",
      "% define targets \n",
      "T = [repmat(a,1,length(trainSeto)) repmat(b,1,length(trainVers)) \n",
      "repmat(c,1,length(trainVirg))]; \n",
      "%% choose a spread constant (1st step) \n",
      "spread = 2.1; \n",
      "Cor = zeros(2,209); \n",
      "Sp = zeros(1,209); \n",
      "Sp(1,1) = spread; \n",
      "for i = 1:209, \n",
      "spread = spread - 0.01; \n",
      "\n",
      "\f",
      "Page 18\n",
      "Sp(1,i) = spread; \n",
      "% choose max number of neurons \n",
      "K = 40; \n",
      "% performance goal (SSE) \n",
      "goal = 0; \n",
      "% number of neurons to add between displays \n",
      "Ki = 5; \n",
      "  \n",
      "% create a neural network \n",
      "net = newrb(trainInp,T,goal,spread,K,Ki); \n",
      "  \n",
      "% simulate RBFN on training data \n",
      "Y = sim(net,trainInp); \n",
      "  \n",
      "% define validation vector \n",
      "valInp = [valSeto valVers valVirg]; \n",
      "valT = [repmat(a,1,length(valSeto)) repmat(b,1,length(valVers)) \n",
      "repmat(c,1,length(valVirg))]; \n",
      "[Yval,Pf,Af,E,perf] = sim(net,valInp,[],[],valT); \n",
      "  \n",
      "% calculate [%] of correct classifications \n",
      "Cor(1,i) = 100 * length(find(T.*Y > 0)) / length(T); \n",
      "Cor(2,i) = 100 * length(find(valT.*Yval > 0)) / length(valT); \n",
      "end \n",
      "figure \n",
      "pl = plot(Sp,Cor/3); \n",
      "set(pl,{'linewidth'},{1,3}'); \n",
      "%% choose a spread constant (2nd step) \n",
      "spread = 1.0; \n",
      "Cor = zeros(2,410)  ;\n",
      "Sp = zeros(1,410); \n",
      "Sp(1,1) = spread; \n",
      "for i = 1:410, \n",
      "spread = spread - 0.001; \n",
      "Sp(1,i) = spread; \n",
      "% choose max number of neurons \n",
      "K = 40; \n",
      "% performance goal (SSE) \n",
      "goal = 0; \n",
      "% number of neurons to add between displays \n",
      "Ki = 5; \n",
      "  \n",
      "% create a neural network \n",
      "net = newrb(trainInp,T,goal,spread,K,Ki); \n",
      "  \n",
      "% simulate RBFN on training data \n",
      "Y = sim(net,trainInp); \n",
      "  \n",
      "% define validation vector \n",
      "valInp = [valSeto valVers valVirg]; \n",
      "valT = [repmat(a,1,length(valSeto)) repmat(b,1,length(valVers)) \n",
      "repmat(c,1,length(valVirg))]; \n",
      "[Yval,Pf,Af,E,perf] = sim(net,valInp,[],[],valT); \n",
      "  \n",
      "% calculate [%] of correct classifications \n",
      "Cor(1,i) = 100 * length(find(T.*Y > 0)) / length(T); \n",
      "Cor(2,i) = 100 * length(find(valT.*Yval > 0)) / length(valT); \n",
      "end \n",
      "figure \n",
      "pl = plot(Sp,Cor/3); \n",
      "set(pl,{'linewidth'},{1,3}'); \n",
      "%% final training \n",
      "\n",
      "\f",
      "Page 19\n",
      "spr = 0.8; \n",
      "fintrain = [trainInp valInp]; \n",
      "finT = [T valT]; \n",
      "[net,tr] = newrb(fintrain,finT,goal,spr,K,Ki); \n",
      "  \n",
      "% simulate RBFN on training data \n",
      "finY = sim(net,fintrain); \n",
      "  \n",
      "% calculate [%] of correct classifications \n",
      "finCor = 100 * length(find(finT.*finY > 0)) / length(finT); \n",
      "fprintf('\\nSpread          = %.3f\\n',spr) \n",
      "fprintf('Num of neurons  = %d\\n',net.layers{1}.size) \n",
      "fprintf('Correct class   = %.3f %%\\n',finCor/3) \n",
      "% plot targets and network response \n",
      "figure; \n",
      "plot(T') \n",
      "ylim([-2 2]) \n",
      "set(gca,'ytick',[-2 0 2]) \n",
      "hold on \n",
      "grid on \n",
      "plot(Y','r') \n",
      "legend('Targets','Network response') \n",
      "xlabel('Sample No.') \n",
      "%% Testing \n",
      "% define test set \n",
      "testInp = [testSeto testVers testVirg]; \n",
      "testT = [repmat(a,1,length(testSeto)) repmat(b,1,length(testVers)) \n",
      "repmat(c,1,length(testVirg))]; \n",
      "  \n",
      "testOut = sim(net,testInp); \n",
      "testCor = 100 * length(find(testT.*testOut > 0)) / length(testT); \n",
      "fprintf('\\nSpread          = %.3f\\n',spr) \n",
      "fprintf('Num of neurons  = %d\\n',net.layers{1}.size) \n",
      "fprintf('Correct class   = %.3f %%\\n',testCor/3) \n",
      "  \n",
      "% plot targets and network response \n",
      "figure; \n",
      "plot(testT') \n",
      "ylim([-2 2]) \n",
      "set(gca,'ytick',[-2 0 2]) \n",
      "hold on \n",
      "grid on \n",
      "plot(testOut','r') \n",
      "legend('Targets','Network response') \n",
      "xlabel('Sample No.') \n",
      " \n",
      "3. Probabilistic neural network Matlab code \n",
      "close all; clear; clc \n",
      "%% load divided input data set \n",
      "load divinp.mat \n",
      "% coding the classes \n",
      "a = 1; \n",
      "b = 2; \n",
      "c = 3; \n",
      "% define training inputs \n",
      "trainInp = [trainSeto trainVers trainVirg]; \n",
      "% define targets \n",
      "T = [repmat(a,1,length(trainSeto)) repmat(b,1,length(trainVers)) \n",
      "repmat(c,1,length(trainVirg))]; \n",
      "%% choose a spread constant (1st step) \n",
      "\n",
      "\f",
      "Page 20\n",
      "spread = 1.1; \n",
      "Cor = zeros(2,109); \n",
      "Sp = zeros(1,109)  ;\n",
      "Sp(1,1) = spread; \n",
      "for i = 1:109, \n",
      "spread = spread - 0.01; \n",
      "Sp(1,i) = spread; \n",
      "% create a neural network \n",
      "net = newpnn(trainInp,ind2vec(T),spread); \n",
      "  \n",
      "% simulate PNN on training data \n",
      "Y = sim(net,trainInp); \n",
      "% convert PNN outputs \n",
      "Y = vec2ind(Y); \n",
      "  \n",
      "% define validation vector \n",
      "valInp = [valSeto valVers valVirg]; \n",
      "valT = [repmat(a,1,length(valSeto)) repmat(b,1,length(valVers)) \n",
      "repmat(c,1,length(valVirg))]; \n",
      "Yval = sim(net,valInp,[],[],ind2vec(valT)); \n",
      "Yval = vec2ind(Yval); \n",
      "  \n",
      "% calculate [%] of correct classifications \n",
      "Cor(1,i) = 100 * length(find(T==Y)) / length(T); \n",
      "Cor(2,i) = 100 * length(find(valT==Yval)) / length(valT); \n",
      "end \n",
      "figure \n",
      "pl = plot(Sp,Cor); \n",
      "set(pl,{'linewidth'},{1,3}'); \n",
      "%% choose a spread constant (2nd step) \n",
      "spread = 0.25; \n",
      "Cor1 = zeros(2,200); \n",
      "Sp1 = zeros(1,200); \n",
      "Sp1(1,1) = spread; \n",
      "for i = 1:200, \n",
      "spread = spread - 0.0001; \n",
      "Sp1(1,i) = spread; \n",
      "% create a neural network \n",
      "net = newpnn(trainInp,ind2vec(T),spread); \n",
      "  \n",
      "% simulate PNN on training data \n",
      "Y = sim(net,trainInp)  ;\n",
      "% convert PNN outputs \n",
      "Y = vec2ind(Y); \n",
      "  \n",
      "Yval = sim(net,valInp,[],[],ind2vec(valT)); \n",
      "Yval = vec2ind(Yval); \n",
      "  \n",
      "% calculate [%] of correct classifications \n",
      "Cor1(1,i) = 100 * length(find(T==Y)) / length(T); \n",
      "Cor1(2,i) = 100 * length(find(valT==Yval)) / length(valT); \n",
      "end \n",
      "figure \n",
      "pl1 = plot(Sp1,Cor1); \n",
      "set(pl1,{'linewidth'},{1,3}'); \n",
      "%% final training \n",
      "spr = 0.242; \n",
      "fintrain = [trainInp valInp]; \n",
      "finT = [T valT]; \n",
      "net = newpnn(fintrain,ind2vec(finT),spr); \n",
      "  \n",
      "% simulate PNN on training data \n",
      "\n",
      "\f",
      "Page 21\n",
      ",'ytick'\n",
      "\n",
      ",[1 2 3]) \n",
      "\n",
      "finY = sim(net,fintrain); \n",
      "% convert PNN outputs \n",
      "finY = vec2ind(finY); \n",
      "  \n",
      "% calculate [%] of correct classifications \n",
      "finCor = 100 * length(find(finT==finY)) / length(finT); \n",
      "fprintf('\\nSpread          = %.3f\\n',spr) \n",
      "fprintf('Num of neurons  = %d\\n',net.layers{1}.size) \n",
      "fprintf('Correct class   = %.3f %%\\n',finCor) \n",
      "% plot targets and network response \n",
      "figure; \n",
      "plot(T') \n",
      "ylim([0 4]) \n",
      "set(gca\n",
      "hold on \n",
      "grid on \n",
      "plot(Y','r') \n",
      "legend('Targets','Network response') \n",
      "xlabel('Sample No.') \n",
      "%% Testing \n",
      "% define test set \n",
      "testInp = [testSeto testVers testVirg]; \n",
      "testT = [repmat(a,1,length(testSeto)) repmat(b,1,length(testVers)) \n",
      "repmat(c,1,length(testVirg))]; \n",
      "  \n",
      "testOut = sim(net,testInp); \n",
      "testOut = vec2ind(testOut); \n",
      "testCor = 100 * length(find(testT==testOut)) / length(testT); \n",
      "fprintf('\\nSpread          = %.3f\\n',spr) \n",
      "fprintf('Num of neurons  = %d\\n',net.layers{1}.size) \n",
      "fprintf('Correct class   = %.3f %%\\n',testCor) \n",
      "  \n",
      "% plot targets and network response \n",
      "figure; \n",
      "plot(testT') \n",
      "ylim([0 4]) \n",
      "set(gca\n",
      "hold on \n",
      "grid on \n",
      "plot(testOut','r') \n",
      "legend('Targets','Network response') \n",
      "xlabel('Sample No.') \n",
      " \n",
      "\n",
      ",'ytick'\n",
      "\n",
      ",[1 2 3]) \n",
      "\n",
      "\f",
      "\n"
     ]
    }
   ],
   "source": [
    "with open(file, \"rb\") as f:\n",
    "    parser = PDFParser(f)\n",
    "    doc = PDFDocument(parser)     \n",
    "    content, numPages = parse_doc(doc, mode='return_as_string', showpageno=True) \n",
    "    print(\"Number of pages =\", numPages)\n",
    "    print(content)"
   ]
  },
  {
   "cell_type": "markdown",
   "metadata": {},
   "source": [
    "### Parse page"
   ]
  },
  {
   "cell_type": "code",
   "execution_count": 26,
   "metadata": {
    "ExecuteTime": {
     "end_time": "2021-09-21T09:33:03.033954Z",
     "start_time": "2021-09-21T09:33:02.997841Z"
    },
    "collapsed": true
   },
   "outputs": [],
   "source": [
    "def parse_page(doc, page_num, mode='return_as_string'):\n",
    "    numPages = 0\n",
    "    rsrcmgr = PDFResourceManager()\n",
    "    laparams = LAParams()\n",
    "\n",
    "    if mode=='return_as_list':\n",
    "        lines = []\n",
    "        device = PDFPageAggregator(rsrcmgr, laparams=laparams)\n",
    "    else:\n",
    "        string = StringIO()\n",
    "        device = TextConverter(rsrcmgr, string, laparams=laparams, showpageno=False)\n",
    "    interpreter = PDFPageInterpreter(rsrcmgr, device)\n",
    " \n",
    "    for page in PDFPage.create_pages(doc):\n",
    "        numPages += 1\n",
    "        if numPages!=page_num:\n",
    "            continue\n",
    "        else:\n",
    "            interpreter.process_page(page)\n",
    "\n",
    "            if mode=='return_as_list':\n",
    "                layout = device.get_result()\n",
    "                for element in layout:\n",
    "                    if isinstance(element, LTTextBoxHorizontal):\n",
    "                        lines.extend(element.get_text().splitlines())\n",
    "            break\n",
    "     \n",
    "    if mode=='return_as_list':\n",
    "        result = lines\n",
    "    else:\n",
    "        result = string.getvalue()\n",
    "        string.close()\n",
    "        \n",
    "    device.close()\n",
    "    \n",
    "    return result"
   ]
  },
  {
   "cell_type": "code",
   "execution_count": 28,
   "metadata": {
    "ExecuteTime": {
     "end_time": "2021-09-21T09:33:27.643035Z",
     "start_time": "2021-09-21T09:33:27.570822Z"
    },
    "scrolled": true
   },
   "outputs": [
    {
     "name": "stdout",
     "output_type": "stream",
     "text": [
      "['Finally,  the  generalization  performance  of  the  network  is  tested  on ', 'the  test  set.  The  corresponding  value  of  correct  classification ', 'function is calculated. ', ' ', '3.5 Results comparison ', 'In  the  following  table  the  values  of  correct  classification  function ', 'obtained  by  supplying  different  sets  of  input  data  into  the  chosen ', 'models  of  neural  networks  and  processing  their  outputs  are ', 'presented. ', 'Neural networks ', 'Radial basis ', 'function ', 'network ', '99.225% ', '100% ', 'Table 1 ', 'Probabilistic ', 'neural network ', '98.450% ', '95.238% ', 'Sets of inputs ', 'Multilayer ', 'perceptron ', 'training + ', 'validation ', 'test ', ' ', '99.483% ', '96.825% ']\n"
     ]
    }
   ],
   "source": [
    "with open(file, \"rb\") as f:\n",
    "    parser = PDFParser(f)\n",
    "    doc = PDFDocument(parser)     \n",
    "    content = parse_page(doc, page_num=12, mode='return_as_list') \n",
    "    print(content)"
   ]
  },
  {
   "cell_type": "markdown",
   "metadata": {
    "heading_collapsed": true
   },
   "source": [
    "# Find Image"
   ]
  },
  {
   "cell_type": "code",
   "execution_count": 57,
   "metadata": {
    "ExecuteTime": {
     "end_time": "2021-05-09T09:48:43.189953Z",
     "start_time": "2021-05-09T09:48:43.059821Z"
    },
    "collapsed": true,
    "hidden": true
   },
   "outputs": [],
   "source": [
    "!qpdf \"data/seminar8.pdf\" --pages \"data/seminar8.pdf\" 1 -- \"data/output/seminar8_1.pdf\"\n",
    "!grep --color -a 'Image' \"data/output/seminar8_1.pdf\""
   ]
  },
  {
   "cell_type": "code",
   "execution_count": 59,
   "metadata": {
    "ExecuteTime": {
     "end_time": "2021-05-09T09:49:28.187275Z",
     "start_time": "2021-05-09T09:49:28.055888Z"
    },
    "collapsed": true,
    "hidden": true
   },
   "outputs": [],
   "source": [
    "!qpdf \"data/seminar8.pdf\" --pages \"data/seminar8.pdf\" 13 -- \"data/output/seminar8_13.pdf\"\n",
    "!grep --color -a 'Image' \"data/output/seminar8_13.pdf\""
   ]
  },
  {
   "cell_type": "code",
   "execution_count": 60,
   "metadata": {
    "ExecuteTime": {
     "end_time": "2021-05-09T09:49:50.849626Z",
     "start_time": "2021-05-09T09:49:50.714053Z"
    },
    "hidden": true
   },
   "outputs": [
    {
     "name": "stdout",
     "output_type": "stream",
     "text": [
      "<< /Contents 660 0 R /CropBox [ 0 0 595.22 842 ] /MediaBox [ 0 0 595.22 842 ] /Parent 5 0 R /Resources << /ColorSpace << /CS0 661 0 R /CS1 662 0 R /CS2 663 0 R /CS3 664 0 R /CS4 665 0 R /CS5 666 0 R /CS6 667 0 R /CS7 668 0 R >> /ExtGState << /GS0 669 0 R >> /Font << /TT0 670 0 R /TT1 671 0 R >> /ProcSet [ /PDF /Text /\u001b[01;31m\u001b[KImage\u001b[m\u001b[KC /\u001b[01;31m\u001b[KImage\u001b[m\u001b[KI ] /XObject << /Im0 672 0 R /Im1 673 0 R /Im2 674 0 R /Im3 675 0 R /Im4 676 0 R /Im5 677 0 R /Im6 678 0 R /Im7 679 0 R >> >> /Rotate 0 /StructParents 14 /Type /Page >>\r\n",
      "<< /BitsPerComponent 8 /ColorSpace 661 0 R /Filter /FlateDecode /Height 126 /Subtype /\u001b[01;31m\u001b[KImage\u001b[m\u001b[K /Type /XObject /Width 447 /Length 2262 >>\r\n",
      "<< /BitsPerComponent 8 /ColorSpace 662 0 R /Filter /FlateDecode /Height 126 /Subtype /\u001b[01;31m\u001b[KImage\u001b[m\u001b[K /Type /XObject /Width 447 /Length 1429 >>\r\n",
      "<< /BitsPerComponent 8 /ColorSpace 663 0 R /Filter /FlateDecode /Height 126 /Subtype /\u001b[01;31m\u001b[KImage\u001b[m\u001b[K /Type /XObject /Width 447 /Length 2941 >>\r\n",
      "<< /BitsPerComponent 8 /ColorSpace 664 0 R /Filter /FlateDecode /Height 126 /Subtype /\u001b[01;31m\u001b[KImage\u001b[m\u001b[K /Type /XObject /Width 447 /Length 1662 >>\r\n",
      "<< /BitsPerComponent 8 /ColorSpace 665 0 R /Filter /FlateDecode /Height 126 /Subtype /\u001b[01;31m\u001b[KImage\u001b[m\u001b[K /Type /XObject /Width 447 /Length 2450 >>\r\n",
      "<< /BitsPerComponent 8 /ColorSpace 666 0 R /Filter /FlateDecode /Height 126 /Subtype /\u001b[01;31m\u001b[KImage\u001b[m\u001b[K /Type /XObject /Width 447 /Length 1408 >>\r\n",
      "<< /BitsPerComponent 8 /ColorSpace 667 0 R /Filter /FlateDecode /Height 126 /Subtype /\u001b[01;31m\u001b[KImage\u001b[m\u001b[K /Type /XObject /Width 447 /Length 2745 >>\r\n",
      "<< /BitsPerComponent 8 /ColorSpace 668 0 R /Filter /FlateDecode /Height 126 /Subtype /\u001b[01;31m\u001b[KImage\u001b[m\u001b[K /Type /XObject /Width 447 /Length 2113 >>\r\n"
     ]
    }
   ],
   "source": [
    "!qpdf \"data/seminar8.pdf\" --pages \"data/seminar8.pdf\" 14 -- \"data/output/seminar8_14.pdf\"\n",
    "!grep --color -a 'Image' \"data/output/seminar8_14.pdf\""
   ]
  },
  {
   "cell_type": "markdown",
   "metadata": {},
   "source": [
    "# Tabula"
   ]
  },
  {
   "cell_type": "code",
   "execution_count": 18,
   "metadata": {
    "ExecuteTime": {
     "end_time": "2021-05-09T09:11:45.498919Z",
     "start_time": "2021-05-09T09:11:45.487660Z"
    },
    "collapsed": true
   },
   "outputs": [],
   "source": [
    "import tabula"
   ]
  },
  {
   "cell_type": "code",
   "execution_count": 24,
   "metadata": {
    "ExecuteTime": {
     "end_time": "2021-05-09T09:13:00.441335Z",
     "start_time": "2021-05-09T09:12:59.144507Z"
    }
   },
   "outputs": [
    {
     "name": "stderr",
     "output_type": "stream",
     "text": [
      "Got stderr: May 09, 2021 2:42:59 PM org.apache.pdfbox.pdmodel.font.PDTrueTypeFont <init>\n",
      "WARNING: Using fallback font 'LiberationSans-Bold' for 'CenturyGothic-Bold'\n",
      "May 09, 2021 2:42:59 PM org.apache.pdfbox.pdmodel.font.PDTrueTypeFont <init>\n",
      "WARNING: Using fallback font 'LiberationSans-Italic' for 'CenturyGothic-Italic'\n",
      "May 09, 2021 2:43:00 PM org.apache.pdfbox.pdmodel.font.PDTrueTypeFont <init>\n",
      "WARNING: Using fallback font 'LiberationSerif' for 'TimesNewRomanPSMT'\n",
      "May 09, 2021 2:43:00 PM org.apache.pdfbox.pdmodel.font.PDTrueTypeFont <init>\n",
      "WARNING: Using fallback font 'LiberationSerif' for 'CourierNewPSMT'\n",
      "\n"
     ]
    },
    {
     "data": {
      "text/plain": [
       "2"
      ]
     },
     "execution_count": 24,
     "metadata": {},
     "output_type": "execute_result"
    }
   ],
   "source": [
    "tables = tabula.read_pdf(file, pages='all', \n",
    "                         lattice=True, \n",
    "                         stream=True,\n",
    "                         multiple_tables=True)\n",
    "len(tables)"
   ]
  },
  {
   "cell_type": "code",
   "execution_count": 25,
   "metadata": {
    "ExecuteTime": {
     "end_time": "2021-05-09T09:13:03.463822Z",
     "start_time": "2021-05-09T09:13:03.442465Z"
    }
   },
   "outputs": [
    {
     "data": {
      "text/html": [
       "<div>\n",
       "<style scoped>\n",
       "    .dataframe tbody tr th:only-of-type {\n",
       "        vertical-align: middle;\n",
       "    }\n",
       "\n",
       "    .dataframe tbody tr th {\n",
       "        vertical-align: top;\n",
       "    }\n",
       "\n",
       "    .dataframe thead th {\n",
       "        text-align: right;\n",
       "    }\n",
       "</style>\n",
       "<table border=\"1\" class=\"dataframe\">\n",
       "  <thead>\n",
       "    <tr style=\"text-align: right;\">\n",
       "      <th></th>\n",
       "      <th>Sets of inputs</th>\n",
       "      <th>Neural networks</th>\n",
       "      <th>Unnamed: 0</th>\n",
       "      <th>Unnamed: 1</th>\n",
       "    </tr>\n",
       "  </thead>\n",
       "  <tbody>\n",
       "    <tr>\n",
       "      <th>0</th>\n",
       "      <td>NaN</td>\n",
       "      <td>Multilayer\\rperceptron</td>\n",
       "      <td>Radial basis\\rfunction\\rnetwork</td>\n",
       "      <td>Probabilistic\\rneural network</td>\n",
       "    </tr>\n",
       "    <tr>\n",
       "      <th>1</th>\n",
       "      <td>training +\\rvalidation</td>\n",
       "      <td>99.483%</td>\n",
       "      <td>99.225%</td>\n",
       "      <td>98.450%</td>\n",
       "    </tr>\n",
       "    <tr>\n",
       "      <th>2</th>\n",
       "      <td>test</td>\n",
       "      <td>96.825%</td>\n",
       "      <td>100%</td>\n",
       "      <td>95.238%</td>\n",
       "    </tr>\n",
       "  </tbody>\n",
       "</table>\n",
       "</div>"
      ],
      "text/plain": [
       "           Sets of inputs         Neural networks  \\\n",
       "0                     NaN  Multilayer\\rperceptron   \n",
       "1  training +\\rvalidation                 99.483%   \n",
       "2                    test                 96.825%   \n",
       "\n",
       "                        Unnamed: 0                     Unnamed: 1  \n",
       "0  Radial basis\\rfunction\\rnetwork  Probabilistic\\rneural network  \n",
       "1                          99.225%                        98.450%  \n",
       "2                             100%                        95.238%  "
      ]
     },
     "execution_count": 25,
     "metadata": {},
     "output_type": "execute_result"
    }
   ],
   "source": [
    "tables[0]"
   ]
  },
  {
   "cell_type": "code",
   "execution_count": 26,
   "metadata": {
    "ExecuteTime": {
     "end_time": "2021-05-09T09:13:05.271304Z",
     "start_time": "2021-05-09T09:13:05.249755Z"
    }
   },
   "outputs": [
    {
     "data": {
      "text/html": [
       "<div>\n",
       "<style scoped>\n",
       "    .dataframe tbody tr th:only-of-type {\n",
       "        vertical-align: middle;\n",
       "    }\n",
       "\n",
       "    .dataframe tbody tr th {\n",
       "        vertical-align: top;\n",
       "    }\n",
       "\n",
       "    .dataframe thead th {\n",
       "        text-align: right;\n",
       "    }\n",
       "</style>\n",
       "<table border=\"1\" class=\"dataframe\">\n",
       "  <thead>\n",
       "    <tr style=\"text-align: right;\">\n",
       "      <th></th>\n",
       "      <th>Sets of inputs</th>\n",
       "      <th>Neural networks</th>\n",
       "      <th>Unnamed: 0</th>\n",
       "      <th>Unnamed: 1</th>\n",
       "    </tr>\n",
       "  </thead>\n",
       "  <tbody>\n",
       "    <tr>\n",
       "      <th>0</th>\n",
       "      <td>NaN</td>\n",
       "      <td>Multilayer\\rperceptron</td>\n",
       "      <td>Radial basis\\rfunction\\rnetwork</td>\n",
       "      <td>Probabilistic\\rneural\\rnetwork</td>\n",
       "    </tr>\n",
       "    <tr>\n",
       "      <th>1</th>\n",
       "      <td>training +\\rvalidation</td>\n",
       "      <td>100%</td>\n",
       "      <td>99.483%</td>\n",
       "      <td>100%</td>\n",
       "    </tr>\n",
       "    <tr>\n",
       "      <th>2</th>\n",
       "      <td>test</td>\n",
       "      <td>96.825%</td>\n",
       "      <td>96.825%</td>\n",
       "      <td>95.238%</td>\n",
       "    </tr>\n",
       "  </tbody>\n",
       "</table>\n",
       "</div>"
      ],
      "text/plain": [
       "           Sets of inputs         Neural networks  \\\n",
       "0                     NaN  Multilayer\\rperceptron   \n",
       "1  training +\\rvalidation                    100%   \n",
       "2                    test                 96.825%   \n",
       "\n",
       "                        Unnamed: 0                      Unnamed: 1  \n",
       "0  Radial basis\\rfunction\\rnetwork  Probabilistic\\rneural\\rnetwork  \n",
       "1                          99.483%                            100%  \n",
       "2                          96.825%                         95.238%  "
      ]
     },
     "execution_count": 26,
     "metadata": {},
     "output_type": "execute_result"
    }
   ],
   "source": [
    "tables[1]"
   ]
  },
  {
   "cell_type": "markdown",
   "metadata": {},
   "source": [
    "# Camelot"
   ]
  },
  {
   "cell_type": "code",
   "execution_count": 33,
   "metadata": {
    "ExecuteTime": {
     "end_time": "2021-05-09T09:20:06.421920Z",
     "start_time": "2021-05-09T09:20:06.413988Z"
    },
    "collapsed": true
   },
   "outputs": [],
   "source": [
    "import camelot"
   ]
  },
  {
   "cell_type": "code",
   "execution_count": 41,
   "metadata": {
    "ExecuteTime": {
     "end_time": "2021-05-09T09:21:08.541750Z",
     "start_time": "2021-05-09T09:20:50.166402Z"
    }
   },
   "outputs": [
    {
     "data": {
      "text/plain": [
       "4"
      ]
     },
     "execution_count": 41,
     "metadata": {},
     "output_type": "execute_result"
    }
   ],
   "source": [
    "tables = camelot.read_pdf(file, pages='1-end', flavor='lattice')\n",
    "tables.n"
   ]
  },
  {
   "cell_type": "code",
   "execution_count": 42,
   "metadata": {
    "ExecuteTime": {
     "end_time": "2021-05-09T09:21:08.587004Z",
     "start_time": "2021-05-09T09:21:08.578461Z"
    }
   },
   "outputs": [
    {
     "name": "stdout",
     "output_type": "stream",
     "text": [
      "{'accuracy': 0, 'whitespace': 100.0, 'order': 1, 'page': 10}\n"
     ]
    },
    {
     "data": {
      "text/html": [
       "<div>\n",
       "<style scoped>\n",
       "    .dataframe tbody tr th:only-of-type {\n",
       "        vertical-align: middle;\n",
       "    }\n",
       "\n",
       "    .dataframe tbody tr th {\n",
       "        vertical-align: top;\n",
       "    }\n",
       "\n",
       "    .dataframe thead th {\n",
       "        text-align: right;\n",
       "    }\n",
       "</style>\n",
       "<table border=\"1\" class=\"dataframe\">\n",
       "  <thead>\n",
       "    <tr style=\"text-align: right;\">\n",
       "      <th></th>\n",
       "      <th>0</th>\n",
       "      <th>1</th>\n",
       "      <th>2</th>\n",
       "      <th>3</th>\n",
       "    </tr>\n",
       "  </thead>\n",
       "  <tbody>\n",
       "    <tr>\n",
       "      <th>0</th>\n",
       "      <td></td>\n",
       "      <td></td>\n",
       "      <td></td>\n",
       "      <td></td>\n",
       "    </tr>\n",
       "    <tr>\n",
       "      <th>1</th>\n",
       "      <td></td>\n",
       "      <td></td>\n",
       "      <td></td>\n",
       "      <td></td>\n",
       "    </tr>\n",
       "  </tbody>\n",
       "</table>\n",
       "</div>"
      ],
      "text/plain": [
       "  0 1 2 3\n",
       "0        \n",
       "1        "
      ]
     },
     "execution_count": 42,
     "metadata": {},
     "output_type": "execute_result"
    }
   ],
   "source": [
    "print(tables[0].parsing_report)\n",
    "tables[0].df"
   ]
  },
  {
   "cell_type": "code",
   "execution_count": 43,
   "metadata": {
    "ExecuteTime": {
     "end_time": "2021-05-09T09:21:08.713410Z",
     "start_time": "2021-05-09T09:21:08.623021Z"
    }
   },
   "outputs": [
    {
     "name": "stdout",
     "output_type": "stream",
     "text": [
      "{'accuracy': 0, 'whitespace': 100.0, 'order': 1, 'page': 11}\n"
     ]
    },
    {
     "data": {
      "text/html": [
       "<div>\n",
       "<style scoped>\n",
       "    .dataframe tbody tr th:only-of-type {\n",
       "        vertical-align: middle;\n",
       "    }\n",
       "\n",
       "    .dataframe tbody tr th {\n",
       "        vertical-align: top;\n",
       "    }\n",
       "\n",
       "    .dataframe thead th {\n",
       "        text-align: right;\n",
       "    }\n",
       "</style>\n",
       "<table border=\"1\" class=\"dataframe\">\n",
       "  <thead>\n",
       "    <tr style=\"text-align: right;\">\n",
       "      <th></th>\n",
       "      <th>0</th>\n",
       "      <th>1</th>\n",
       "    </tr>\n",
       "  </thead>\n",
       "  <tbody>\n",
       "    <tr>\n",
       "      <th>0</th>\n",
       "      <td></td>\n",
       "      <td></td>\n",
       "    </tr>\n",
       "    <tr>\n",
       "      <th>1</th>\n",
       "      <td></td>\n",
       "      <td></td>\n",
       "    </tr>\n",
       "    <tr>\n",
       "      <th>2</th>\n",
       "      <td></td>\n",
       "      <td></td>\n",
       "    </tr>\n",
       "  </tbody>\n",
       "</table>\n",
       "</div>"
      ],
      "text/plain": [
       "  0 1\n",
       "0    \n",
       "1    \n",
       "2    "
      ]
     },
     "execution_count": 43,
     "metadata": {},
     "output_type": "execute_result"
    }
   ],
   "source": [
    "print(tables[1].parsing_report)\n",
    "tables[1].df"
   ]
  },
  {
   "cell_type": "code",
   "execution_count": 44,
   "metadata": {
    "ExecuteTime": {
     "end_time": "2021-05-09T09:21:08.849929Z",
     "start_time": "2021-05-09T09:21:08.758746Z"
    }
   },
   "outputs": [
    {
     "name": "stdout",
     "output_type": "stream",
     "text": [
      "{'accuracy': 100.0, 'whitespace': 18.75, 'order': 1, 'page': 12}\n"
     ]
    },
    {
     "data": {
      "text/html": [
       "<div>\n",
       "<style scoped>\n",
       "    .dataframe tbody tr th:only-of-type {\n",
       "        vertical-align: middle;\n",
       "    }\n",
       "\n",
       "    .dataframe tbody tr th {\n",
       "        vertical-align: top;\n",
       "    }\n",
       "\n",
       "    .dataframe thead th {\n",
       "        text-align: right;\n",
       "    }\n",
       "</style>\n",
       "<table border=\"1\" class=\"dataframe\">\n",
       "  <thead>\n",
       "    <tr style=\"text-align: right;\">\n",
       "      <th></th>\n",
       "      <th>0</th>\n",
       "      <th>1</th>\n",
       "      <th>2</th>\n",
       "      <th>3</th>\n",
       "    </tr>\n",
       "  </thead>\n",
       "  <tbody>\n",
       "    <tr>\n",
       "      <th>0</th>\n",
       "      <td>Sets of inputs</td>\n",
       "      <td>Neural networks</td>\n",
       "      <td></td>\n",
       "      <td></td>\n",
       "    </tr>\n",
       "    <tr>\n",
       "      <th>1</th>\n",
       "      <td></td>\n",
       "      <td>Multilayer \\nperceptron</td>\n",
       "      <td>Radial basis \\nfunction \\nnetwork</td>\n",
       "      <td>Probabilistic \\nneural network</td>\n",
       "    </tr>\n",
       "    <tr>\n",
       "      <th>2</th>\n",
       "      <td>training + \\nvalidation</td>\n",
       "      <td>99.483%</td>\n",
       "      <td>99.225%</td>\n",
       "      <td>98.450%</td>\n",
       "    </tr>\n",
       "    <tr>\n",
       "      <th>3</th>\n",
       "      <td>test</td>\n",
       "      <td>96.825%</td>\n",
       "      <td>100%</td>\n",
       "      <td>95.238%</td>\n",
       "    </tr>\n",
       "  </tbody>\n",
       "</table>\n",
       "</div>"
      ],
      "text/plain": [
       "                         0                        1  \\\n",
       "0           Sets of inputs          Neural networks   \n",
       "1                           Multilayer \\nperceptron   \n",
       "2  training + \\nvalidation                  99.483%   \n",
       "3                     test                  96.825%   \n",
       "\n",
       "                                   2                               3  \n",
       "0                                                                     \n",
       "1  Radial basis \\nfunction \\nnetwork  Probabilistic \\nneural network  \n",
       "2                            99.225%                         98.450%  \n",
       "3                               100%                         95.238%  "
      ]
     },
     "execution_count": 44,
     "metadata": {},
     "output_type": "execute_result"
    }
   ],
   "source": [
    "print(tables[2].parsing_report)\n",
    "tables[2].df"
   ]
  },
  {
   "cell_type": "code",
   "execution_count": 45,
   "metadata": {
    "ExecuteTime": {
     "end_time": "2021-05-09T09:21:08.977196Z",
     "start_time": "2021-05-09T09:21:08.888142Z"
    }
   },
   "outputs": [
    {
     "name": "stdout",
     "output_type": "stream",
     "text": [
      "{'accuracy': 99.94, 'whitespace': 18.75, 'order': 1, 'page': 13}\n"
     ]
    },
    {
     "data": {
      "text/html": [
       "<div>\n",
       "<style scoped>\n",
       "    .dataframe tbody tr th:only-of-type {\n",
       "        vertical-align: middle;\n",
       "    }\n",
       "\n",
       "    .dataframe tbody tr th {\n",
       "        vertical-align: top;\n",
       "    }\n",
       "\n",
       "    .dataframe thead th {\n",
       "        text-align: right;\n",
       "    }\n",
       "</style>\n",
       "<table border=\"1\" class=\"dataframe\">\n",
       "  <thead>\n",
       "    <tr style=\"text-align: right;\">\n",
       "      <th></th>\n",
       "      <th>0</th>\n",
       "      <th>1</th>\n",
       "      <th>2</th>\n",
       "      <th>3</th>\n",
       "    </tr>\n",
       "  </thead>\n",
       "  <tbody>\n",
       "    <tr>\n",
       "      <th>0</th>\n",
       "      <td>Sets of inputs</td>\n",
       "      <td>Neural networks</td>\n",
       "      <td></td>\n",
       "      <td></td>\n",
       "    </tr>\n",
       "    <tr>\n",
       "      <th>1</th>\n",
       "      <td></td>\n",
       "      <td>Multilayer \\nperceptron</td>\n",
       "      <td>Radial basis \\nfunction \\nnetwork</td>\n",
       "      <td>Probabilistic \\nneural \\nnetwork</td>\n",
       "    </tr>\n",
       "    <tr>\n",
       "      <th>2</th>\n",
       "      <td>training + \\nvalidation</td>\n",
       "      <td>100%</td>\n",
       "      <td>99.483%</td>\n",
       "      <td>100%</td>\n",
       "    </tr>\n",
       "    <tr>\n",
       "      <th>3</th>\n",
       "      <td>test</td>\n",
       "      <td>96.825%</td>\n",
       "      <td>96.825%</td>\n",
       "      <td>95.238%</td>\n",
       "    </tr>\n",
       "  </tbody>\n",
       "</table>\n",
       "</div>"
      ],
      "text/plain": [
       "                         0                        1  \\\n",
       "0           Sets of inputs          Neural networks   \n",
       "1                           Multilayer \\nperceptron   \n",
       "2  training + \\nvalidation                     100%   \n",
       "3                     test                  96.825%   \n",
       "\n",
       "                                   2                                 3  \n",
       "0                                                                       \n",
       "1  Radial basis \\nfunction \\nnetwork  Probabilistic \\nneural \\nnetwork  \n",
       "2                            99.483%                              100%  \n",
       "3                            96.825%                           95.238%  "
      ]
     },
     "execution_count": 45,
     "metadata": {},
     "output_type": "execute_result"
    }
   ],
   "source": [
    "print(tables[3].parsing_report)\n",
    "tables[3].df"
   ]
  },
  {
   "cell_type": "markdown",
   "metadata": {
    "heading_collapsed": true
   },
   "source": [
    "# Smallpdf"
   ]
  },
  {
   "cell_type": "code",
   "execution_count": 14,
   "metadata": {
    "ExecuteTime": {
     "end_time": "2021-05-09T09:03:24.540269Z",
     "start_time": "2021-05-09T09:03:24.526121Z"
    },
    "collapsed": true,
    "hidden": true
   },
   "outputs": [],
   "source": [
    "import webbrowser"
   ]
  },
  {
   "cell_type": "code",
   "execution_count": 15,
   "metadata": {
    "ExecuteTime": {
     "end_time": "2021-05-09T09:05:03.136212Z",
     "start_time": "2021-05-09T09:05:03.104494Z"
    },
    "hidden": true
   },
   "outputs": [
    {
     "data": {
      "text/plain": [
       "True"
      ]
     },
     "execution_count": 15,
     "metadata": {},
     "output_type": "execute_result"
    }
   ],
   "source": [
    "webbrowser.open('https://smallpdf.com/pdf-to-excel')"
   ]
  },
  {
   "cell_type": "markdown",
   "metadata": {
    "heading_collapsed": true
   },
   "source": [
    "# Cometdocs"
   ]
  },
  {
   "cell_type": "code",
   "execution_count": 28,
   "metadata": {
    "ExecuteTime": {
     "end_time": "2021-05-09T09:14:55.584865Z",
     "start_time": "2021-05-09T09:14:55.572817Z"
    },
    "collapsed": true,
    "hidden": true
   },
   "outputs": [],
   "source": [
    "import webbrowser"
   ]
  },
  {
   "cell_type": "code",
   "execution_count": 31,
   "metadata": {
    "ExecuteTime": {
     "end_time": "2021-05-09T09:16:17.465943Z",
     "start_time": "2021-05-09T09:16:17.443404Z"
    },
    "hidden": true
   },
   "outputs": [
    {
     "data": {
      "text/plain": [
       "True"
      ]
     },
     "execution_count": 31,
     "metadata": {},
     "output_type": "execute_result"
    }
   ],
   "source": [
    "webbrowser.open('https://cometdocs.com/file/manager')"
   ]
  },
  {
   "cell_type": "markdown",
   "metadata": {
    "ExecuteTime": {
     "end_time": "2021-05-09T08:42:44.585063Z",
     "start_time": "2021-05-09T08:42:44.464389Z"
    }
   },
   "source": [
    "# Excalibur"
   ]
  },
  {
   "cell_type": "code",
   "execution_count": 12,
   "metadata": {
    "ExecuteTime": {
     "end_time": "2021-05-09T09:00:58.701099Z",
     "start_time": "2021-05-09T09:00:56.796854Z"
    },
    "collapsed": true
   },
   "outputs": [],
   "source": [
    "!excalibur initdb"
   ]
  },
  {
   "cell_type": "code",
   "execution_count": 13,
   "metadata": {
    "ExecuteTime": {
     "end_time": "2021-05-09T09:02:18.768308Z",
     "start_time": "2021-05-09T09:00:58.707396Z"
    }
   },
   "outputs": [
    {
     "name": "stdout",
     "output_type": "stream",
     "text": [
      " * Serving Flask app \"excalibur.www.app\" (lazy loading)\n",
      " * Environment: production\n",
      "\u001b[31m   WARNING: This is a development server. Do not use it in a production deployment.\u001b[0m\n",
      "\u001b[2m   Use a production WSGI server instead.\u001b[0m\n",
      " * Debug mode: off\n",
      " * Running on http://127.0.0.1:5000/ (Press CTRL+C to quit)\n",
      "^C\n"
     ]
    }
   ],
   "source": [
    "!excalibur webserver"
   ]
  }
 ],
 "metadata": {
  "kernelspec": {
   "display_name": "Python 3",
   "language": "python",
   "name": "python3"
  },
  "language_info": {
   "codemirror_mode": {
    "name": "ipython",
    "version": 3
   },
   "file_extension": ".py",
   "mimetype": "text/x-python",
   "name": "python",
   "nbconvert_exporter": "python",
   "pygments_lexer": "ipython3",
   "version": "3.6.7"
  },
  "toc": {
   "nav_menu": {},
   "number_sections": true,
   "sideBar": true,
   "skip_h1_title": false,
   "title_cell": "Table of Contents",
   "title_sidebar": "Contents",
   "toc_cell": false,
   "toc_position": {
    "height": "calc(100% - 180px)",
    "left": "10px",
    "top": "150px",
    "width": "165px"
   },
   "toc_section_display": true,
   "toc_window_display": true
  },
  "varInspector": {
   "cols": {
    "lenName": 16,
    "lenType": 16,
    "lenVar": 40
   },
   "kernels_config": {
    "python": {
     "delete_cmd_postfix": "",
     "delete_cmd_prefix": "del ",
     "library": "var_list.py",
     "varRefreshCmd": "print(var_dic_list())"
    },
    "r": {
     "delete_cmd_postfix": ") ",
     "delete_cmd_prefix": "rm(",
     "library": "var_list.r",
     "varRefreshCmd": "cat(var_dic_list()) "
    }
   },
   "types_to_exclude": [
    "module",
    "function",
    "builtin_function_or_method",
    "instance",
    "_Feature"
   ],
   "window_display": false
  }
 },
 "nbformat": 4,
 "nbformat_minor": 2
}
